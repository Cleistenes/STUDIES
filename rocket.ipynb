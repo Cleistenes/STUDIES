{
 "cells": [
  {
   "cell_type": "markdown",
   "metadata": {},
   "source": [
    "# Ship's Instruction Manual"
   ]
  }
 ],
 "metadata": {
  "kernelspec": {
   "display_name": "Python 3.10.8 64-bit (microsoft store)",
   "language": "python",
   "name": "python3"
  },
  "language_info": {
   "name": "python",
   "version": "3.10.8"
  },
  "orig_nbformat": 4,
  "vscode": {
   "interpreter": {
    "hash": "14e2a3b25ec64db5e3cddaacf3cc0bdcdf137d95c945f678ab2ff4d0ce5020aa"
   }
  }
 },
 "nbformat": 4,
 "nbformat_minor": 2
}
